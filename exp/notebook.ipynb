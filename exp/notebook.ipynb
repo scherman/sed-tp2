{
 "cells": [
  {
   "cell_type": "code",
   "execution_count": 2,
   "metadata": {},
   "outputs": [],
   "source": [
    "def correr_simu(nombre, args):\n",
    "    cookiecutter_args = ' '.join(['{}={}'.format(k, v) for (k,v) in args.items()])\n",
    "    !./run.sh $nombre_exp $cookiecutter_args"
   ]
  },
  {
   "cell_type": "code",
   "execution_count": 3,
   "metadata": {},
   "outputs": [
    {
     "name": "stdout",
     "output_type": "stream",
     "text": [
      "PCD++: A Tool to Implement n-Dimensional Cell-DEVS models\n",
      "Version 3.0 - March 2003\n",
      "Troccoli A., Rodriguez D., Wainer G., Barylko A., Beyoglonian J., Lopez A.\n",
      "-----------------------------------------------------------------------------\n",
      "PCD++ Extended States: An extended and improved version of CD++ for Cell-DEVS\n",
      "Version 4.1.2 - December 2018\n",
      "Santi L., Castro, R., Pimás, J.\n",
      "-----------------------------------------------------------------------------\n",
      "Discrete Event Simulation Lab\n",
      "Departamento de Computación\n",
      "Facultad de Ciencias Exactas y Naturales\n",
      "Universidad de Buenos Aires, Argentina\n",
      "-----------------------------------------------------------------------------\n",
      "Compiled for standalone simulation\n",
      "\n",
      "\n",
      "Loading models from top.ma\n",
      "Loading events from \n",
      "Running parallel simulation. Reading models partition from \n",
      "Model partition details output to: /dev/null*\n",
      "Message log: logs\n",
      "Output to: /dev/null\n",
      "Tolerance set to: 1e-08\n",
      "Configuration to show real numbers: Width = 12 - Precision = 5\n",
      "Quantum: Not used\n",
      "Evaluate Debug Mode = OFF\n",
      "Flat Cell Debug Mode = OFF\n",
      "Debug Cell Rules Mode = OFF\n",
      "Temporary File created by Preprocessor = /tmp/fileI7RwGI\n",
      "Printing parser information = OFF\n",
      "\n",
      "Stop at time: 00:00:10:000:0\n",
      "LP 0: initializing simulation objects\n",
      "LP 0: starting simulation (NoTime).\n",
      "Simulation complete!\n",
      "Simulation ended!\n",
      "LP 0 has finished simulation \n",
      "PCD++: A Tool to Implement n-Dimensional Cell-DEVS models\n",
      "Version 3.0 - March 2003\n",
      "Troccoli A., Rodriguez D., Wainer G., Barylko A., Beyoglonian J., Lopez A.\n",
      "-----------------------------------------------------------------------------\n",
      "PCD++ Extended States: An extended and improved version of CD++ for Cell-DEVS\n",
      "Version 4.1.2 - December 2018\n",
      "Santi L., Castro, R., Pimás, J.\n",
      "-----------------------------------------------------------------------------\n",
      "Discrete Event Simulation Lab\n",
      "Departamento de Computación\n",
      "Facultad de Ciencias Exactas y Naturales\n",
      "Universidad de Buenos Aires, Argentina\n",
      "-----------------------------------------------------------------------------\n",
      "Compiled for standalone simulation\n",
      "\n",
      "\n",
      "Loading models from top.ma\n",
      "Loading events from \n",
      "Running parallel simulation. Reading models partition from \n",
      "Model partition details output to: /dev/null*\n",
      "Message log: logs\n",
      "Output to: /dev/null\n",
      "Tolerance set to: 1e-08\n",
      "Configuration to show real numbers: Width = 12 - Precision = 5\n",
      "Quantum: Not used\n",
      "Evaluate Debug Mode = OFF\n",
      "Flat Cell Debug Mode = OFF\n",
      "Debug Cell Rules Mode = OFF\n",
      "Temporary File created by Preprocessor = /tmp/fileigRogI\n",
      "Printing parser information = OFF\n",
      "\n",
      "Stop at time: 00:00:10:000:0\n",
      "LP 0: initializing simulation objects\n",
      "LP 0: starting simulation (NoTime).\n",
      "Simulation complete!\n",
      "Simulation ended!\n",
      "LP 0 has finished simulation \n"
     ]
    }
   ],
   "source": [
    "for i in [0.4, 0.6]:\n",
    "    nombre_exp = 'exp-{}'.format(i)\n",
    "    correr_simu(nombre_exp, {\n",
    "        'proba_consumir': 0.4\n",
    "    })"
   ]
  }
 ],
 "metadata": {
  "kernelspec": {
   "display_name": "Python 3",
   "language": "python",
   "name": "python3"
  },
  "language_info": {
   "codemirror_mode": {
    "name": "ipython",
    "version": 3
   },
   "file_extension": ".py",
   "mimetype": "text/x-python",
   "name": "python",
   "nbconvert_exporter": "python",
   "pygments_lexer": "ipython3",
   "version": "3.7.3"
  }
 },
 "nbformat": 4,
 "nbformat_minor": 2
}
